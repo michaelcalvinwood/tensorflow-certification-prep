{
  "nbformat": 4,
  "nbformat_minor": 0,
  "metadata": {
    "colab": {
      "provenance": []
    },
    "kernelspec": {
      "name": "python3",
      "display_name": "Python 3"
    },
    "language_info": {
      "name": "python"
    }
  },
  "cells": [
    {
      "cell_type": "markdown",
      "source": [
        "# Regression Fundamentals\n",
        "\n",
        "Example problems to solve:\n",
        "\n",
        "How much will this house sell for?\n",
        "\n",
        "How many people will buy this app?\n",
        "\n",
        "What will the stock price be at time x?\n",
        "\n",
        "How long will Bob live?\n",
        "\n",
        "How long will Bob live healthily?"
      ],
      "metadata": {
        "id": "YJk0VP_rdt2e"
      }
    },
    {
      "cell_type": "markdown",
      "source": [
        "## Inputs"
      ],
      "metadata": {
        "id": "9M-U51auevrE"
      }
    },
    {
      "cell_type": "markdown",
      "source": [
        "Consider: How much will this house sell for?\n",
        "\n",
        "Let's say we want to use # bedrooms, # bathrooms, and # garage car spaces\n",
        "\n",
        "Let's say that the sample house has 4 bedrooms, 2 bathrooms, and the 2-car garage\n",
        "\n",
        "These variables are called **Input Features**\n",
        "\n",
        "Our raw data: [4, 2, 2]\n",
        "\n",
        "Our one-hot encoded data then becomes:\n",
        "[[0, 0, 0, 1]\n",
        "[0, 1, 0, 0]\n",
        "[0, 1, 0, 0]]\n",
        "\n",
        "And so on for each house\n"
      ],
      "metadata": {
        "id": "fKlSwIcofaoa"
      }
    },
    {
      "cell_type": "markdown",
      "source": [
        "## Outputs"
      ],
      "metadata": {
        "id": "dfrm9PrpgRtl"
      }
    },
    {
      "cell_type": "markdown",
      "source": [
        "In this case we want to know the price we should offer: e.g. $939,700\n",
        "\n",
        "Hence, we want an integer output: 939,700\n"
      ],
      "metadata": {
        "id": "Rwz26_yfgWhJ"
      }
    },
    {
      "cell_type": "markdown",
      "source": [
        "## Input and Output Shapes\n",
        "\n",
        "In our example, the input shape is [3] and the output shape is [1].\n",
        "\n",
        "The output shape is often 1 in regression models (i.e. the predicted value)"
      ],
      "metadata": {
        "id": "NzS1hOgAhPw-"
      }
    },
    {
      "cell_type": "markdown",
      "source": [
        "## Typical Model Hyperparemeters\n",
        "\n",
        "**Input Layer Shape:**  Same shape as the number of features (e.g. 3 in our example)\n",
        "\n",
        "**Hidden Layer(s):**    Problem specific. Ranges from 1 to unlimited.\n",
        "\n",
        "**Neurons per Hidden Layer:** Problem specific. Generally 10 to 100.\n",
        "\n",
        "**Output Layer Shape:** Same shape as desired prediction (e.g. 1 for house price)\n",
        "\n",
        "**Hidden Activation:** Usually Rectified Linear Unit (ReLU)\n",
        "\n",
        "**Output Activation:** None, ReLU, logistic/tanh\n",
        "\n",
        "**Loss Function:** Mean Squre Error (MSE), Mean Absolute Error (MAE), Huber (combination of MSE & MAE)\n",
        "\n",
        "**Optimizer:** Stochastic Gradient Descent (SGD), Adam\n",
        "\n",
        "Note: Stochastic means random\n"
      ],
      "metadata": {
        "id": "7L_qXWUEiSSg"
      }
    },
    {
      "cell_type": "markdown",
      "source": [
        "** Example Model Based on the above"
      ],
      "metadata": {
        "id": "OD8LQY4vkhjp"
      }
    },
    {
      "cell_type": "code",
      "source": [
        "import tensorflow as tf\n",
        "# Create the Model\n",
        "model = tf.keras.Sequential([\n",
        "    tf.keras.Input(shape=(3,)), # input Layer with a shape of [3]\n",
        "    tf.keras.layers.Dense(100, activation=\"relu\"), # Hidden Layer with 100 neurons and ReLU activation\n",
        "    tf.keras.layers.Dense(100, activation=\"relu\"), # ditto\n",
        "    tf.keras.layers.Dense(100, activation=\"relu\"), # ditto\n",
        "    tf.keras.layers.Dense(1, activation=None) # Output Layer with shape of [1] and no activation\n",
        "])"
      ],
      "metadata": {
        "id": "JfXOdmosfZ2H"
      },
      "execution_count": 6,
      "outputs": []
    },
    {
      "cell_type": "code",
      "source": [
        "# Compile the Model\n",
        "model.compile(loss=tf.keras.losses.mae, # Use MAE as the Loss Function\n",
        "              optimizer=tf.keras.optimizers.Adam, # use Adam as the optimizer\n",
        "              metrics=[\"mae\"]\n",
        "              )\n",
        "\n",
        "# Fit the model\n",
        "#model.fit(X_train, y_train, epochs=50)"
      ],
      "metadata": {
        "id": "Zvk9lakTel2J"
      },
      "execution_count": 4,
      "outputs": []
    },
    {
      "cell_type": "code",
      "source": [],
      "metadata": {
        "id": "nc-sf6qqe4IW"
      },
      "execution_count": null,
      "outputs": []
    }
  ]
}