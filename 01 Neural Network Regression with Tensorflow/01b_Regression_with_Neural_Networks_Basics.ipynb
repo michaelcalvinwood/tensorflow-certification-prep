{
  "nbformat": 4,
  "nbformat_minor": 0,
  "metadata": {
    "colab": {
      "provenance": []
    },
    "kernelspec": {
      "name": "python3",
      "display_name": "Python 3"
    },
    "language_info": {
      "name": "python"
    }
  },
  "cells": [
    {
      "cell_type": "code",
      "execution_count": 437,
      "metadata": {
        "colab": {
          "base_uri": "https://localhost:8080/"
        },
        "id": "xwEOIjiRnOYX",
        "outputId": "56e39621-2c42-4b7a-dc82-10ace79c6c44"
      },
      "outputs": [
        {
          "output_type": "stream",
          "name": "stdout",
          "text": [
            "2.13.0\n"
          ]
        }
      ],
      "source": [
        "# Import Tensorflow\n",
        "import tensorflow as tf\n",
        "print(tf.__version__)"
      ]
    },
    {
      "cell_type": "markdown",
      "source": [
        "## Creating Data to View and Fit"
      ],
      "metadata": {
        "id": "m0JRqWhonmbM"
      }
    },
    {
      "cell_type": "code",
      "source": [
        "import numpy as np\n",
        "import matplotlib.pyplot as plt\n",
        "\n",
        "# Create Features\n",
        "X = np.array([-7.0, -4.0, -1.0, 2.0, 5.0, 8.0, 11.0, 14.0])\n",
        "\n",
        "# Create Labels\n",
        "y = np.array([3.0, 6.0, 9.0, 12.0, 15.0, 18.0, 21.0, 24.0]) # our output values are input + 10. That's the relationship that we want the machine to learn\n",
        "\n",
        "plt.scatter(X, y)"
      ],
      "metadata": {
        "colab": {
          "base_uri": "https://localhost:8080/",
          "height": 453
        },
        "id": "IwK1bbZHnd10",
        "outputId": "e702d1cd-628d-476d-82a7-1fdded397292"
      },
      "execution_count": 438,
      "outputs": [
        {
          "output_type": "execute_result",
          "data": {
            "text/plain": [
              "<matplotlib.collections.PathCollection at 0x7fb024120610>"
            ]
          },
          "metadata": {},
          "execution_count": 438
        },
        {
          "output_type": "display_data",
          "data": {
            "text/plain": [
              "<Figure size 640x480 with 1 Axes>"
            ],
            "image/png": "[encoded data removed]"
          },
          "metadata": {}
        }
      ]
    },
    {
      "cell_type": "code",
      "source": [
        "# Our input shape is [1] because we are inputting 1 feature\n",
        "# Our output shape is [1] because\n",
        "X[0], y[0]"
      ],
      "metadata": {
        "colab": {
          "base_uri": "https://localhost:8080/"
        },
        "id": "pc82MZ8joKvV",
        "outputId": "e1ed3691-5ed5-4905-ffb3-0390c521fc4d"
      },
      "execution_count": 439,
      "outputs": [
        {
          "output_type": "execute_result",
          "data": {
            "text/plain": [
              "(-7.0, 3.0)"
            ]
          },
          "metadata": {},
          "execution_count": 439
        }
      ]
    },
    {
      "cell_type": "code",
      "source": [
        "# Transform our NumPy arrays to tensors\n",
        "X = tf.constant(X)\n",
        "y = tf.constant(y)\n",
        "X, y"
      ],
      "metadata": {
        "colab": {
          "base_uri": "https://localhost:8080/"
        },
        "id": "nRaGwqQ6op4R",
        "outputId": "3761bc69-8e06-4e7c-b372-71db2c5b7311"
      },
      "execution_count": 440,
      "outputs": [
        {
          "output_type": "execute_result",
          "data": {
            "text/plain": [
              "(<tf.Tensor: shape=(8,), dtype=float64, numpy=array([-7., -4., -1.,  2.,  5.,  8., 11., 14.])>,\n",
              " <tf.Tensor: shape=(8,), dtype=float64, numpy=array([ 3.,  6.,  9., 12., 15., 18., 21., 24.])>)"
            ]
          },
          "metadata": {},
          "execution_count": 440
        }
      ]
    },
    {
      "cell_type": "markdown",
      "source": [
        "## Steps in Modelling with Tensorflow\n",
        "\n",
        "1. **Create a Model:** Define input, output, and hidden layers\n",
        "2. **Compile the Model:** Define the Loss Function (the function that tells our model how wrong it is), define the optimizer (tells our model how to improve the patterns its learning), define the evaluation metrics (the metrics used to determine how well the model is performing)\n",
        "3. **Fit the Model:** Let the model try to find the patterns mapping X to y (features and labels)"
      ],
      "metadata": {
        "id": "qh1mR9KfqmmK"
      }
    },
    {
      "cell_type": "code",
      "source": [
        "# Create a model using the Sequential API\n",
        "\n",
        "model = tf.keras.Sequential([\n",
        "    tf.keras.layers.Dense(1)\n",
        "])\n",
        "\n",
        "# Compile the model\n",
        "model.compile(\n",
        "    loss = tf.keras.losses.mae,\n",
        "    optimizer = tf.keras.optimizers.SGD(), # alternative string value \"sgd\" as shortcode abbreviation\n",
        "    metrics=[\"mae\"]\n",
        ")\n",
        "\n",
        "# Fit the model\n",
        "# model.fit(X, y, epochs=5, verbose=1) # Deprecated. The Input layer requires a minimum of 2 dimensions. Therefore, we now need to add a dimension\n",
        "X = tf.expand_dims(X, axis=-1)\n",
        "X"
      ],
      "metadata": {
        "colab": {
          "base_uri": "https://localhost:8080/"
        },
        "id": "Rjfr0G4_qVyO",
        "outputId": "ae4c40ca-0dc6-49b2-d557-c4ed16c2cd4b"
      },
      "execution_count": 441,
      "outputs": [
        {
          "output_type": "execute_result",
          "data": {
            "text/plain": [
              "<tf.Tensor: shape=(8, 1), dtype=float64, numpy=\n",
              "array([[-7.],\n",
              "       [-4.],\n",
              "       [-1.],\n",
              "       [ 2.],\n",
              "       [ 5.],\n",
              "       [ 8.],\n",
              "       [11.],\n",
              "       [14.]])>"
            ]
          },
          "metadata": {},
          "execution_count": 441
        }
      ]
    },
    {
      "cell_type": "code",
      "source": [
        "#y = tf.expand_dims(y, axis = -1) # do we need to do this??\n",
        "y"
      ],
      "metadata": {
        "colab": {
          "base_uri": "https://localhost:8080/"
        },
        "id": "BpXm61Y-qcD-",
        "outputId": "a9b9e62d-fdb3-4ada-cd32-66287fb27976"
      },
      "execution_count": 442,
      "outputs": [
        {
          "output_type": "execute_result",
          "data": {
            "text/plain": [
              "<tf.Tensor: shape=(8,), dtype=float64, numpy=array([ 3.,  6.,  9., 12., 15., 18., 21., 24.])>"
            ]
          },
          "metadata": {},
          "execution_count": 442
        }
      ]
    },
    {
      "cell_type": "code",
      "source": [
        "model.fit(X, y, epochs=5)"
      ],
      "metadata": {
        "colab": {
          "base_uri": "https://localhost:8080/"
        },
        "id": "bwoUP2-Qufg4",
        "outputId": "7ce42573-d014-4fcd-e457-e7cb0ec2efdf"
      },
      "execution_count": 443,
      "outputs": [
        {
          "output_type": "stream",
          "name": "stdout",
          "text": [
            "Epoch 1/5\n",
            "1/1 [==============================] - 0s 381ms/step - loss: 10.4691 - mae: 10.4691\n",
            "Epoch 2/5\n",
            "1/1 [==============================] - 0s 11ms/step - loss: 10.3366 - mae: 10.3366\n",
            "Epoch 3/5\n",
            "1/1 [==============================] - 0s 12ms/step - loss: 10.2041 - mae: 10.2041\n",
            "Epoch 4/5\n",
            "1/1 [==============================] - 0s 11ms/step - loss: 10.0716 - mae: 10.0716\n",
            "Epoch 5/5\n",
            "1/1 [==============================] - 0s 9ms/step - loss: 9.9391 - mae: 9.9391\n"
          ]
        },
        {
          "output_type": "execute_result",
          "data": {
            "text/plain": [
              "<keras.src.callbacks.History at 0x7fb00977be50>"
            ]
          },
          "metadata": {},
          "execution_count": 443
        }
      ]
    },
    {
      "cell_type": "code",
      "source": [
        "model.predict([17.0])"
      ],
      "metadata": {
        "colab": {
          "base_uri": "https://localhost:8080/"
        },
        "id": "S78VQIS-vhgA",
        "outputId": "cc7105bb-1877-4ffc-d93e-c601d6f2fb76"
      },
      "execution_count": 444,
      "outputs": [
        {
          "output_type": "stream",
          "name": "stdout",
          "text": [
            "1/1 [==============================] - 0s 72ms/step\n"
          ]
        },
        {
          "output_type": "execute_result",
          "data": {
            "text/plain": [
              "array([[17.746717]], dtype=float32)"
            ]
          },
          "metadata": {},
          "execution_count": 444
        }
      ]
    },
    {
      "cell_type": "markdown",
      "source": [
        "## Improving Models\n",
        "\n",
        "**Creating a Model:** We can add more layers, increase the number of neurons, change the activation functions of each layer\n",
        "\n",
        "**Compiling a Model:** Change the activation functions, change the optimizer, change the learning rate (learning rate tells the model how much it should adjust each epoch Default is .001 for Adam)\n",
        "\n",
        "**Fitting a Model:** Increase the data set, randomize the data set, increase the number of epochs\n",
        "\n",
        "*NOTE: Learning Rate is usually the biggest bang for the buck for optimization*"
      ],
      "metadata": {
        "id": "v-vT1qhM15Qq"
      }
    },
    {
      "cell_type": "code",
      "source": [
        "# rebuild the model with more epochs\n",
        "model = tf.keras.Sequential([\n",
        "    tf.keras.layers.Dense(1)\n",
        "])\n",
        "model.compile(\n",
        "    loss = tf.keras.losses.mae,\n",
        "    optimizer = tf.keras.optimizers.SGD(), # alternative string value \"sgd\" as shortcode abbreviation\n",
        "    metrics=[\"mae\"]\n",
        ")\n",
        "model.fit(X, y, epochs=100, verbose=0)\n",
        "model.predict([17.0])\n",
        "\n"
      ],
      "metadata": {
        "colab": {
          "base_uri": "https://localhost:8080/"
        },
        "id": "T-SZjDKzwMdO",
        "outputId": "f8ff2352-e207-420c-c54d-4eb07e9a0458"
      },
      "execution_count": 445,
      "outputs": [
        {
          "output_type": "stream",
          "name": "stdout",
          "text": [
            "1/1 [==============================] - 0s 73ms/step\n"
          ]
        },
        {
          "output_type": "execute_result",
          "data": {
            "text/plain": [
              "array([[29.582]], dtype=float32)"
            ]
          },
          "metadata": {},
          "execution_count": 445
        }
      ]
    },
    {
      "cell_type": "code",
      "source": [
        "\n",
        "# try to get better by adding a layer and changing the optimization\n",
        "# rebuild the model with more epochs\n",
        "model = tf.keras.Sequential([\n",
        "\n",
        "    tf.keras.layers.Input(shape=(1,)),\n",
        "    tf.keras.layers.Dense(100, activation=\"relu\"),\n",
        "    tf.keras.layers.Dense(1, activation=None)\n",
        "])\n",
        "model.compile(\n",
        "    loss = tf.keras.losses.mae,\n",
        "    optimizer = tf.keras.optimizers.Adam(lr=.01), # alternative string value \"sgd\" as shortcode abbreviation\n",
        "    metrics=[\"mae\"]\n",
        ")\n",
        "model.fit(X, y, epochs=100, verbose=0)\n",
        "model.predict([17.0])"
      ],
      "metadata": {
        "colab": {
          "base_uri": "https://localhost:8080/"
        },
        "id": "iedHjL2-4yD1",
        "outputId": "a1677a4b-4884-4ee0-f858-48d5974518a1"
      },
      "execution_count": 446,
      "outputs": [
        {
          "output_type": "stream",
          "name": "stderr",
          "text": [
            "WARNING:absl:`lr` is deprecated in Keras optimizer, please use `learning_rate` or use the legacy optimizer, e.g.,tf.keras.optimizers.legacy.Adam.\n"
          ]
        },
        {
          "output_type": "stream",
          "name": "stdout",
          "text": [
            "1/1 [==============================] - 0s 69ms/step\n"
          ]
        },
        {
          "output_type": "execute_result",
          "data": {
            "text/plain": [
              "array([[26.006493]], dtype=float32)"
            ]
          },
          "metadata": {},
          "execution_count": 446
        }
      ]
    },
    {
      "cell_type": "markdown",
      "source": [
        "## Evaluating a Model"
      ],
      "metadata": {
        "id": "89dspz2o81nK"
      }
    },
    {
      "cell_type": "markdown",
      "source": [
        "We can visualize\n",
        "\n",
        "The data\n",
        "\n",
        "The model itself\n",
        "\n",
        "The training of the model\n",
        "\n",
        "The predictions of the model"
      ],
      "metadata": {
        "id": "AcpPBk-U9DqZ"
      }
    },
    {
      "cell_type": "code",
      "source": [
        "# Make a bigger data set\n",
        "# A range from -100 to 100 with a step of 4\n",
        "X = tf.range(-100, 100, 4)\n",
        "X\n"
      ],
      "metadata": {
        "colab": {
          "base_uri": "https://localhost:8080/"
        },
        "id": "7hb9iG4y5NIk",
        "outputId": "203f1348-b0c7-4a7e-a260-a656576ef0b1"
      },
      "execution_count": 447,
      "outputs": [
        {
          "output_type": "execute_result",
          "data": {
            "text/plain": [
              "<tf.Tensor: shape=(50,), dtype=int32, numpy=\n",
              "array([-100,  -96,  -92,  -88,  -84,  -80,  -76,  -72,  -68,  -64,  -60,\n",
              "        -56,  -52,  -48,  -44,  -40,  -36,  -32,  -28,  -24,  -20,  -16,\n",
              "        -12,   -8,   -4,    0,    4,    8,   12,   16,   20,   24,   28,\n",
              "         32,   36,   40,   44,   48,   52,   56,   60,   64,   68,   72,\n",
              "         76,   80,   84,   88,   92,   96], dtype=int32)>"
            ]
          },
          "metadata": {},
          "execution_count": 447
        }
      ]
    },
    {
      "cell_type": "code",
      "source": [
        "# Make labels for the data set\n",
        "y = X + 10 # same relationship as before\n",
        "y"
      ],
      "metadata": {
        "colab": {
          "base_uri": "https://localhost:8080/"
        },
        "id": "RwQ-RjUv9Wy_",
        "outputId": "75272c7d-3e23-4a64-99e4-0171361eafb1"
      },
      "execution_count": 448,
      "outputs": [
        {
          "output_type": "execute_result",
          "data": {
            "text/plain": [
              "<tf.Tensor: shape=(50,), dtype=int32, numpy=\n",
              "array([-90, -86, -82, -78, -74, -70, -66, -62, -58, -54, -50, -46, -42,\n",
              "       -38, -34, -30, -26, -22, -18, -14, -10,  -6,  -2,   2,   6,  10,\n",
              "        14,  18,  22,  26,  30,  34,  38,  42,  46,  50,  54,  58,  62,\n",
              "        66,  70,  74,  78,  82,  86,  90,  94,  98, 102, 106], dtype=int32)>"
            ]
          },
          "metadata": {},
          "execution_count": 448
        }
      ]
    },
    {
      "cell_type": "code",
      "source": [
        "# Visualize the data\n",
        "import matplotlib.pyplot as plt\n",
        "plt.scatter(X, y)"
      ],
      "metadata": {
        "colab": {
          "base_uri": "https://localhost:8080/",
          "height": 448
        },
        "id": "vlMUq5VH9hOA",
        "outputId": "6a12ccaa-cb78-4168-fe20-f48a0678f701"
      },
      "execution_count": 449,
      "outputs": [
        {
          "output_type": "execute_result",
          "data": {
            "text/plain": [
              "<matplotlib.collections.PathCollection at 0x7fb005257550>"
            ]
          },
          "metadata": {},
          "execution_count": 449
        },
        {
          "output_type": "display_data",
          "data": {
            "text/plain": [
              "<Figure size 640x480 with 1 Axes>"
            ],
            "image/png": "[encoded data removed]"
          },
          "metadata": {}
        }
      ]
    },
    {
      "cell_type": "code",
      "source": [],
      "metadata": {
        "id": "XADs1rLw_U0u"
      },
      "execution_count": 449,
      "outputs": []
    },
    {
      "cell_type": "code",
      "source": [
        "# Split the features and labels into Training, Validation, and Test Sets (or Training/Test sets)\n",
        "# Generalization: The ability for the machine learning model to perfrom well on data that it hasn't seen before\n",
        "\n",
        "print(f\"We have {len(X)} data samples\")"
      ],
      "metadata": {
        "colab": {
          "base_uri": "https://localhost:8080/"
        },
        "id": "PsHHX0D39sVV",
        "outputId": "b4aac424-957e-42a0-f735-562b220213c6"
      },
      "execution_count": 450,
      "outputs": [
        {
          "output_type": "stream",
          "name": "stdout",
          "text": [
            "We have 50 data samples\n"
          ]
        }
      ]
    },
    {
      "cell_type": "code",
      "source": [
        "# split the data into sets\n",
        "X_train = X[:40] # the first 40 samples\n",
        "y_train = y[:40]\n",
        "\n",
        "X_test = X[40:] # from 40 to the end\n",
        "y_test = y[40:]\n",
        "\n",
        "len(X_train), len(y_train), len(X_test), len(y_test)\n"
      ],
      "metadata": {
        "colab": {
          "base_uri": "https://localhost:8080/"
        },
        "id": "7NoirCEn-8sj",
        "outputId": "c8928c6b-6e18-489e-f230-d416bb5a534d"
      },
      "execution_count": 451,
      "outputs": [
        {
          "output_type": "execute_result",
          "data": {
            "text/plain": [
              "(40, 40, 10, 10)"
            ]
          },
          "metadata": {},
          "execution_count": 451
        }
      ]
    },
    {
      "cell_type": "markdown",
      "source": [
        "## Visualize the Regression Sets using Scatter Plots\n",
        "**When doing regression,** use **scatter plots** to visualize the data"
      ],
      "metadata": {
        "id": "ByR5TCbLBZVq"
      }
    },
    {
      "cell_type": "code",
      "source": [
        "plt.figure(figsize=(10, 7))\n",
        "plt.scatter(X_train, y_train, c=\"b\", label=\"Training Data\") # color blue\n",
        "plt.scatter(X_test, y_test, c='g', label=\"Testing Data\") # color green\n",
        "plt.legend() # add a legend based on the labels & colors"
      ],
      "metadata": {
        "colab": {
          "base_uri": "https://localhost:8080/",
          "height": 617
        },
        "id": "7OyT6NTNArai",
        "outputId": "073c0b7d-701e-4b60-8eed-468f395ced54"
      },
      "execution_count": 452,
      "outputs": [
        {
          "output_type": "execute_result",
          "data": {
            "text/plain": [
              "<matplotlib.legend.Legend at 0x7fb01ffeab90>"
            ]
          },
          "metadata": {},
          "execution_count": 452
        },
        {
          "output_type": "display_data",
          "data": {
            "text/plain": [
              "<Figure size 1000x700 with 1 Axes>"
            ],
            "image/png": "[encoded data removed]"
          },
          "metadata": {}
        }
      ]
    },
    {
      "cell_type": "code",
      "source": [
        "# Create the neural network\n",
        "\n",
        "model = tf.keras.Sequential([\n",
        "     tf.keras.layers.Input(shape=(1,)),\n",
        "    tf.keras.layers.Dense(100, activation=\"relu\"),\n",
        "    tf.keras.layers.Dense(1, activation=None)\n",
        "])\n",
        "\n",
        "model.compile(\n",
        "    loss=tf.keras.losses.mae,\n",
        "    optimizer=tf.keras.optimizers.Adam(lr=0.01),\n",
        "    metrics=[\"mae\"]\n",
        ")\n",
        "\n",
        "X_train = tf.expand_dims(X_train, axis=-1)\n",
        "y_train = tf.expand_dims(y_train, axis=-1)\n",
        "#model.fit(X_train, y_train, epochs=100)"
      ],
      "metadata": {
        "colab": {
          "base_uri": "https://localhost:8080/"
        },
        "id": "O3R6yDHNA2b4",
        "outputId": "7b727a01-c640-499e-d434-8b7c4ec676c9"
      },
      "execution_count": 453,
      "outputs": [
        {
          "output_type": "stream",
          "name": "stderr",
          "text": [
            "WARNING:absl:`lr` is deprecated in Keras optimizer, please use `learning_rate` or use the legacy optimizer, e.g.,tf.keras.optimizers.legacy.Adam.\n"
          ]
        }
      ]
    },
    {
      "cell_type": "markdown",
      "source": [
        "## Visualize the Model\n",
        "\n",
        "Dense = Fully Connected Layer (where the output of each node is sent to all the nodes of the next layer)"
      ],
      "metadata": {
        "id": "6Z9OBsmrEL-v"
      }
    },
    {
      "cell_type": "code",
      "source": [
        "model.summary()"
      ],
      "metadata": {
        "colab": {
          "base_uri": "https://localhost:8080/"
        },
        "id": "UFUreGHECY19",
        "outputId": "8637f522-2557-47b1-ea8b-e1c85c83ccb9"
      },
      "execution_count": 454,
      "outputs": [
        {
          "output_type": "stream",
          "name": "stdout",
          "text": [
            "Model: \"sequential_90\"\n",
            "_________________________________________________________________\n",
            " Layer (type)                Output Shape              Param #   \n",
            "=================================================================\n",
            " dense_121 (Dense)           (None, 100)               200       \n",
            "                                                                 \n",
            " dense_122 (Dense)           (None, 1)                 101       \n",
            "                                                                 \n",
            "=================================================================\n",
            "Total params: 301 (1.18 KB)\n",
            "Trainable params: 301 (1.18 KB)\n",
            "Non-trainable params: 0 (0.00 Byte)\n",
            "_________________________________________________________________\n"
          ]
        }
      ]
    },
    {
      "cell_type": "markdown",
      "source": [
        "**Dense** Fully-Connected Node\n",
        "\n",
        "**Total Params** Total number of parameters in the model\n",
        "\n",
        "**Trainable Params** Total number of parameters that are updated (learned) in the model\n",
        "\n",
        "**Non-Trainable Params** Total number of parameters that stay fixed (i.e. are unchangeable) during the learning process\n",
        "\n",
        "Watch MIT Introduction to Deep Learning Video: https://www.youtube.com/playlist?list=PLtBw6njQRU-rwp5__7C0oIVt26ZgjG9NI\n"
      ],
      "metadata": {
        "id": "F04ILlA9Cy-m"
      }
    },
    {
      "cell_type": "code",
      "source": [
        "model.fit(X_train, y_train, epochs=100, verbose=0)"
      ],
      "metadata": {
        "colab": {
          "base_uri": "https://localhost:8080/"
        },
        "id": "KJWV-mXcFXMu",
        "outputId": "d90111ca-1844-4a7e-884e-efdbd8c03764"
      },
      "execution_count": 455,
      "outputs": [
        {
          "output_type": "execute_result",
          "data": {
            "text/plain": [
              "<keras.src.callbacks.History at 0x7fb009888430>"
            ]
          },
          "metadata": {},
          "execution_count": 455
        }
      ]
    },
    {
      "cell_type": "code",
      "source": [
        "model.predict([17])"
      ],
      "metadata": {
        "colab": {
          "base_uri": "https://localhost:8080/"
        },
        "id": "hduF6H45GfuP",
        "outputId": "636eb677-999b-4083-fd22-41a81314a806"
      },
      "execution_count": 456,
      "outputs": [
        {
          "output_type": "stream",
          "name": "stdout",
          "text": [
            "1/1 [==============================] - 0s 71ms/step\n"
          ]
        },
        {
          "output_type": "execute_result",
          "data": {
            "text/plain": [
              "array([[21.890017]], dtype=float32)"
            ]
          },
          "metadata": {},
          "execution_count": 456
        }
      ]
    },
    {
      "cell_type": "code",
      "source": [
        "from tensorflow.keras.utils import plot_model\n",
        "plot_model(model=model, show_shapes=True)"
      ],
      "metadata": {
        "colab": {
          "base_uri": "https://localhost:8080/",
          "height": 312
        },
        "id": "xmIbVPl3IA2E",
        "outputId": "eddf733b-4682-47b1-9ae0-35667a11a46f"
      },
      "execution_count": 457,
      "outputs": [
        {
          "output_type": "execute_result",
          "data": {
            "image/png": "[encoded data removed]",
            "text/plain": [
              "<IPython.core.display.Image object>"
            ]
          },
          "metadata": {},
          "execution_count": 457
        }
      ]
    },
    {
      "cell_type": "markdown",
      "source": [
        "## Visualizing the Models Predictions\n",
        "\n",
        "Plot the prediction against the ground truth values often called 'y_test' or 'y_true' vs 'y_pred'"
      ],
      "metadata": {
        "id": "x5v2AfNIIa7B"
      }
    },
    {
      "cell_type": "code",
      "source": [
        "#X_test = tf.expand_dims(X_test, axis=-1)\n",
        "y_pred = model.predict(X_test)\n",
        "y_pred"
      ],
      "metadata": {
        "colab": {
          "base_uri": "https://localhost:8080/"
        },
        "id": "EjyaftfJIyPv",
        "outputId": "0ec10abf-828b-490b-9d16-071c848a786f"
      },
      "execution_count": 458,
      "outputs": [
        {
          "output_type": "stream",
          "name": "stdout",
          "text": [
            "1/1 [==============================] - 0s 62ms/step\n"
          ]
        },
        {
          "output_type": "execute_result",
          "data": {
            "text/plain": [
              "array([[ 74.270256],\n",
              "       [ 79.14284 ],\n",
              "       [ 84.01542 ],\n",
              "       [ 88.88799 ],\n",
              "       [ 93.760574],\n",
              "       [ 98.633156],\n",
              "       [103.50574 ],\n",
              "       [108.37831 ],\n",
              "       [113.25089 ],\n",
              "       [118.123474]], dtype=float32)"
            ]
          },
          "metadata": {},
          "execution_count": 458
        }
      ]
    },
    {
      "cell_type": "code",
      "source": [
        "y_test"
      ],
      "metadata": {
        "colab": {
          "base_uri": "https://localhost:8080/"
        },
        "id": "nm2fLRWRJao5",
        "outputId": "66eb02a3-d105-4ba4-f807-c1e48e640ca3"
      },
      "execution_count": 459,
      "outputs": [
        {
          "output_type": "execute_result",
          "data": {
            "text/plain": [
              "<tf.Tensor: shape=(10,), dtype=int32, numpy=array([ 70,  74,  78,  82,  86,  90,  94,  98, 102, 106], dtype=int32)>"
            ]
          },
          "metadata": {},
          "execution_count": 459
        }
      ]
    },
    {
      "cell_type": "code",
      "source": [
        "def plot_predictions(train_data=X_train,\n",
        "                     train_labels=y_train,\n",
        "                     test_data=X_test,\n",
        "                     test_labels=y_test,\n",
        "                     predictions=y_pred):\n",
        "  plt.figure(figsize=(10, 7))\n",
        "  plt.scatter(train_data, train_labels, c=\"b\", label=\"Training data\")\n",
        "  plt.scatter(test_data, test_labels, c=\"g\", label=\"Testing data\")\n",
        "  plt.scatter(test_data, predictions, c=\"r\", label=\"Predictions\")\n",
        "  plt.legend()\n",
        "\n",
        "plot_predictions(train_data=X_train,\n",
        "                train_labels=y_train,\n",
        "                test_data=X_test,\n",
        "                test_labels=y_test,\n",
        "                predictions=y_pred)"
      ],
      "metadata": {
        "colab": {
          "base_uri": "https://localhost:8080/",
          "height": 599
        },
        "id": "bvOonoL6Je5W",
        "outputId": "cfdddf06-cdfb-490a-f766-59c509cb2a91"
      },
      "execution_count": 460,
      "outputs": [
        {
          "output_type": "display_data",
          "data": {
            "text/plain": [
              "<Figure size 1000x700 with 1 Axes>"
            ],
            "image/png": "[encoded data removed]"
          },
          "metadata": {}
        }
      ]
    },
    {
      "cell_type": "markdown",
      "source": [
        "## Evaluating the Prediction with Regression Metrics\n",
        "\n",
        "When doing regression, the most important metrics are:\n",
        "\n",
        "MAE : Mean Absolute Error **a great starter metric for any regression problem**\n",
        "\n",
        "MSE : Mean Square Error **use when larger errors are more significant than smaller errors (as it amplifies the magnitude of larger errors)**\n",
        "\n",
        "Huber : Combination of MAE & MSE **less sensitive to outliers than MSE**\n",
        "\n",
        "***This is why we use these metrics in training (fitting) the model***"
      ],
      "metadata": {
        "id": "BXowmqhHKwVw"
      }
    },
    {
      "cell_type": "code",
      "source": [
        "model.evaluate(X_test, y_test)\n",
        "# Notice our model showed loss and MAE. It showed MAE because that's what we used when compiling the model."
      ],
      "metadata": {
        "colab": {
          "base_uri": "https://localhost:8080/"
        },
        "id": "zW4r6pf8LnBP",
        "outputId": "19ec560d-54f6-40df-cdba-36a09ddb738c"
      },
      "execution_count": 461,
      "outputs": [
        {
          "output_type": "stream",
          "name": "stdout",
          "text": [
            "1/1 [==============================] - 0s 121ms/step - loss: 8.1969 - mae: 8.1969\n"
          ]
        },
        {
          "output_type": "execute_result",
          "data": {
            "text/plain": [
              "[8.196866989135742, 8.196866989135742]"
            ]
          },
          "metadata": {},
          "execution_count": 461
        }
      ]
    },
    {
      "cell_type": "code",
      "source": [
        "# Manually compute MAE\n",
        "mae = tf.metrics.mean_absolute_error(y_true=y_test, y_pred=y_pred)\n",
        "mae"
      ],
      "metadata": {
        "colab": {
          "base_uri": "https://localhost:8080/"
        },
        "id": "DxsoCYVFNmkd",
        "outputId": "c9cbeee2-be5c-41c9-8eb4-e6cbc12be91d"
      },
      "execution_count": 462,
      "outputs": [
        {
          "output_type": "execute_result",
          "data": {
            "text/plain": [
              "<tf.Tensor: shape=(10,), dtype=float32, numpy=\n",
              "array([14.637846, 11.942865, 10.396916, 10.      , 10.752115, 12.779894,\n",
              "       16.00459 , 20.378311, 25.250893, 30.123474], dtype=float32)>"
            ]
          },
          "metadata": {},
          "execution_count": 462
        }
      ]
    },
    {
      "cell_type": "code",
      "source": [
        "# We got multiple values because y_pred and y_test are different shapes\n",
        "y_test.shape, y_pred.shape"
      ],
      "metadata": {
        "colab": {
          "base_uri": "https://localhost:8080/"
        },
        "id": "uzXLZhYhN0nZ",
        "outputId": "f4649483-9502-4c72-85bf-89a73f118d18"
      },
      "execution_count": 463,
      "outputs": [
        {
          "output_type": "execute_result",
          "data": {
            "text/plain": [
              "(TensorShape([10]), (10, 1))"
            ]
          },
          "metadata": {},
          "execution_count": 463
        }
      ]
    },
    {
      "cell_type": "code",
      "source": [
        "# Let's squeeze y_pred\n",
        "y_pred = tf.squeeze(y_pred)\n",
        "y_test.shape, y_pred.shape"
      ],
      "metadata": {
        "colab": {
          "base_uri": "https://localhost:8080/"
        },
        "id": "nsmG-VjGPU7s",
        "outputId": "be147f97-c946-43dc-a3a8-47b23ee09b8a"
      },
      "execution_count": 464,
      "outputs": [
        {
          "output_type": "execute_result",
          "data": {
            "text/plain": [
              "(TensorShape([10]), TensorShape([10]))"
            ]
          },
          "metadata": {},
          "execution_count": 464
        }
      ]
    },
    {
      "cell_type": "code",
      "source": [
        "# Now let's manually compute the MAE\n",
        "mae = tf.metrics.mean_absolute_error(y_true=y_test, y_pred=y_pred)\n",
        "mae"
      ],
      "metadata": {
        "colab": {
          "base_uri": "https://localhost:8080/"
        },
        "id": "eCH-BHOxPeL9",
        "outputId": "7d303636-aee5-431e-f1da-50baed97608f"
      },
      "execution_count": 465,
      "outputs": [
        {
          "output_type": "execute_result",
          "data": {
            "text/plain": [
              "<tf.Tensor: shape=(), dtype=float32, numpy=8.196865>"
            ]
          },
          "metadata": {},
          "execution_count": 465
        }
      ]
    },
    {
      "cell_type": "code",
      "source": [
        "# Notice the manual MAE is the same as the model.evaluate() value above\n",
        "mse = tf.metrics.mean_squared_error(y_true=y_test, y_pred=y_pred)\n",
        "mse"
      ],
      "metadata": {
        "colab": {
          "base_uri": "https://localhost:8080/"
        },
        "id": "7MPWxceIPje7",
        "outputId": "bc8fc048-ce73-4af2-e143-fee7b3221547"
      },
      "execution_count": 466,
      "outputs": [
        {
          "output_type": "execute_result",
          "data": {
            "text/plain": [
              "<tf.Tensor: shape=(), dtype=float32, numpy=73.47011>"
            ]
          },
          "metadata": {},
          "execution_count": 466
        }
      ]
    },
    {
      "cell_type": "code",
      "source": [
        "def mae(y_true, y_pred):\n",
        "  return tf.metrics.mean_absolute_error(y_true=y_true, y_pred=y_pred)\n",
        "\n",
        "def mse(y_true, y_pred):\n",
        "  return tf.metrics.mean_squared_error(y_true=y_test, y_pred=y_pred)"
      ],
      "metadata": {
        "id": "Qw9j976pPvA3"
      },
      "execution_count": 467,
      "outputs": []
    },
    {
      "cell_type": "markdown",
      "source": [
        "## Running Experiments to Improve Our Model\n",
        "\n",
        "Top Three\n",
        "\n",
        "1. Get more data\n",
        "\n",
        "2. Make the model larger (also called a more complex layer) by adding layers and/or nodes (hidden units)\n",
        "\n",
        "3. Train longer (more epochs)"
      ],
      "metadata": {
        "id": "U-GtetVqV3gv"
      }
    },
    {
      "cell_type": "code",
      "source": [
        "X_train, y_train"
      ],
      "metadata": {
        "colab": {
          "base_uri": "https://localhost:8080/"
        },
        "id": "dB5f0GzCWDM7",
        "outputId": "33fa7de2-3c1b-4195-a9fd-9e43f16e4bbc"
      },
      "execution_count": 468,
      "outputs": [
        {
          "output_type": "execute_result",
          "data": {
            "text/plain": [
              "(<tf.Tensor: shape=(40, 1), dtype=int32, numpy=\n",
              " array([[-100],\n",
              "        [ -96],\n",
              "        [ -92],\n",
              "        [ -88],\n",
              "        [ -84],\n",
              "        [ -80],\n",
              "        [ -76],\n",
              "        [ -72],\n",
              "        [ -68],\n",
              "        [ -64],\n",
              "        [ -60],\n",
              "        [ -56],\n",
              "        [ -52],\n",
              "        [ -48],\n",
              "        [ -44],\n",
              "        [ -40],\n",
              "        [ -36],\n",
              "        [ -32],\n",
              "        [ -28],\n",
              "        [ -24],\n",
              "        [ -20],\n",
              "        [ -16],\n",
              "        [ -12],\n",
              "        [  -8],\n",
              "        [  -4],\n",
              "        [   0],\n",
              "        [   4],\n",
              "        [   8],\n",
              "        [  12],\n",
              "        [  16],\n",
              "        [  20],\n",
              "        [  24],\n",
              "        [  28],\n",
              "        [  32],\n",
              "        [  36],\n",
              "        [  40],\n",
              "        [  44],\n",
              "        [  48],\n",
              "        [  52],\n",
              "        [  56]], dtype=int32)>,\n",
              " <tf.Tensor: shape=(40, 1), dtype=int32, numpy=\n",
              " array([[-90],\n",
              "        [-86],\n",
              "        [-82],\n",
              "        [-78],\n",
              "        [-74],\n",
              "        [-70],\n",
              "        [-66],\n",
              "        [-62],\n",
              "        [-58],\n",
              "        [-54],\n",
              "        [-50],\n",
              "        [-46],\n",
              "        [-42],\n",
              "        [-38],\n",
              "        [-34],\n",
              "        [-30],\n",
              "        [-26],\n",
              "        [-22],\n",
              "        [-18],\n",
              "        [-14],\n",
              "        [-10],\n",
              "        [ -6],\n",
              "        [ -2],\n",
              "        [  2],\n",
              "        [  6],\n",
              "        [ 10],\n",
              "        [ 14],\n",
              "        [ 18],\n",
              "        [ 22],\n",
              "        [ 26],\n",
              "        [ 30],\n",
              "        [ 34],\n",
              "        [ 38],\n",
              "        [ 42],\n",
              "        [ 46],\n",
              "        [ 50],\n",
              "        [ 54],\n",
              "        [ 58],\n",
              "        [ 62],\n",
              "        [ 66]], dtype=int32)>)"
            ]
          },
          "metadata": {},
          "execution_count": 468
        }
      ]
    },
    {
      "cell_type": "markdown",
      "source": [
        "## Keeping track of experiments\n",
        "\n",
        "TensorBoard\n",
        "\n",
        "Weights and Biases: https://wandb.ai/site\n"
      ],
      "metadata": {
        "id": "b0WHyw9YfOBE"
      }
    },
    {
      "cell_type": "code",
      "source": [],
      "metadata": {
        "id": "_YZX3LeaWlla"
      },
      "execution_count": 468,
      "outputs": []
    }
  ]
}